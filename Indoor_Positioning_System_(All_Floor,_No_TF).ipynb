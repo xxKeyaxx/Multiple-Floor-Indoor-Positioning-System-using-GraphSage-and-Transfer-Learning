{
  "cells": [
    {
      "cell_type": "markdown",
      "metadata": {
        "id": "view-in-github",
        "colab_type": "text"
      },
      "source": [
        "<a href=\"https://colab.research.google.com/github/xxKeyaxx/Multiple-Floor-Indoor-Positioning-System-using-GraphSage-and-Transfer-Learning/blob/main/Indoor_Positioning_System_(All_Floor%2C_No_TF).ipynb\" target=\"_parent\"><img src=\"https://colab.research.google.com/assets/colab-badge.svg\" alt=\"Open In Colab\"/></a>"
      ]
    },
    {
      "cell_type": "code",
      "execution_count": 1,
      "metadata": {
        "colab": {
          "base_uri": "https://localhost:8080/"
        },
        "id": "1iOvYAdbtktD",
        "outputId": "634bd29b-b3b6-46a6-b51b-10f00331c2f1"
      },
      "outputs": [
        {
          "output_type": "stream",
          "name": "stdout",
          "text": [
            "Collecting torch-geometric\n",
            "  Downloading torch_geometric-2.6.1-py3-none-any.whl.metadata (63 kB)\n",
            "\u001b[?25l     \u001b[90m━━━━━━━━━━━━━━━━━━━━━━━━━━━━━━━━━━━━━━━━\u001b[0m \u001b[32m0.0/63.1 kB\u001b[0m \u001b[31m?\u001b[0m eta \u001b[36m-:--:--\u001b[0m\r\u001b[2K     \u001b[90m━━━━━━━━━━━━━━━━━━━━━━━━━━━━━━━━━━━━━━━━\u001b[0m \u001b[32m63.1/63.1 kB\u001b[0m \u001b[31m2.9 MB/s\u001b[0m eta \u001b[36m0:00:00\u001b[0m\n",
            "\u001b[?25hRequirement already satisfied: aiohttp in /usr/local/lib/python3.10/dist-packages (from torch-geometric) (3.11.2)\n",
            "Requirement already satisfied: fsspec in /usr/local/lib/python3.10/dist-packages (from torch-geometric) (2024.10.0)\n",
            "Requirement already satisfied: jinja2 in /usr/local/lib/python3.10/dist-packages (from torch-geometric) (3.1.4)\n",
            "Requirement already satisfied: numpy in /usr/local/lib/python3.10/dist-packages (from torch-geometric) (1.26.4)\n",
            "Requirement already satisfied: psutil>=5.8.0 in /usr/local/lib/python3.10/dist-packages (from torch-geometric) (5.9.5)\n",
            "Requirement already satisfied: pyparsing in /usr/local/lib/python3.10/dist-packages (from torch-geometric) (3.2.0)\n",
            "Requirement already satisfied: requests in /usr/local/lib/python3.10/dist-packages (from torch-geometric) (2.32.3)\n",
            "Requirement already satisfied: tqdm in /usr/local/lib/python3.10/dist-packages (from torch-geometric) (4.66.6)\n",
            "Requirement already satisfied: aiohappyeyeballs>=2.3.0 in /usr/local/lib/python3.10/dist-packages (from aiohttp->torch-geometric) (2.4.3)\n",
            "Requirement already satisfied: aiosignal>=1.1.2 in /usr/local/lib/python3.10/dist-packages (from aiohttp->torch-geometric) (1.3.1)\n",
            "Requirement already satisfied: attrs>=17.3.0 in /usr/local/lib/python3.10/dist-packages (from aiohttp->torch-geometric) (24.2.0)\n",
            "Requirement already satisfied: frozenlist>=1.1.1 in /usr/local/lib/python3.10/dist-packages (from aiohttp->torch-geometric) (1.5.0)\n",
            "Requirement already satisfied: multidict<7.0,>=4.5 in /usr/local/lib/python3.10/dist-packages (from aiohttp->torch-geometric) (6.1.0)\n",
            "Requirement already satisfied: propcache>=0.2.0 in /usr/local/lib/python3.10/dist-packages (from aiohttp->torch-geometric) (0.2.0)\n",
            "Requirement already satisfied: yarl<2.0,>=1.17.0 in /usr/local/lib/python3.10/dist-packages (from aiohttp->torch-geometric) (1.17.2)\n",
            "Requirement already satisfied: async-timeout<6.0,>=4.0 in /usr/local/lib/python3.10/dist-packages (from aiohttp->torch-geometric) (4.0.3)\n",
            "Requirement already satisfied: MarkupSafe>=2.0 in /usr/local/lib/python3.10/dist-packages (from jinja2->torch-geometric) (3.0.2)\n",
            "Requirement already satisfied: charset-normalizer<4,>=2 in /usr/local/lib/python3.10/dist-packages (from requests->torch-geometric) (3.4.0)\n",
            "Requirement already satisfied: idna<4,>=2.5 in /usr/local/lib/python3.10/dist-packages (from requests->torch-geometric) (3.10)\n",
            "Requirement already satisfied: urllib3<3,>=1.21.1 in /usr/local/lib/python3.10/dist-packages (from requests->torch-geometric) (2.2.3)\n",
            "Requirement already satisfied: certifi>=2017.4.17 in /usr/local/lib/python3.10/dist-packages (from requests->torch-geometric) (2024.8.30)\n",
            "Requirement already satisfied: typing-extensions>=4.1.0 in /usr/local/lib/python3.10/dist-packages (from multidict<7.0,>=4.5->aiohttp->torch-geometric) (4.12.2)\n",
            "Downloading torch_geometric-2.6.1-py3-none-any.whl (1.1 MB)\n",
            "\u001b[2K   \u001b[90m━━━━━━━━━━━━━━━━━━━━━━━━━━━━━━━━━━━━━━━━\u001b[0m \u001b[32m1.1/1.1 MB\u001b[0m \u001b[31m22.7 MB/s\u001b[0m eta \u001b[36m0:00:00\u001b[0m\n",
            "\u001b[?25hInstalling collected packages: torch-geometric\n",
            "Successfully installed torch-geometric-2.6.1\n"
          ]
        }
      ],
      "source": [
        "!pip install torch-geometric"
      ]
    },
    {
      "cell_type": "code",
      "execution_count": 2,
      "metadata": {
        "colab": {
          "base_uri": "https://localhost:8080/"
        },
        "id": "P-GiOlVitssk",
        "outputId": "3821b246-4cec-45dd-cdea-bc4f0c1c71a1"
      },
      "outputs": [
        {
          "output_type": "stream",
          "name": "stdout",
          "text": [
            "Mounted at /content/drive\n",
            "   WAP001  WAP002  WAP003  WAP004  WAP005  WAP006  WAP007  WAP008  WAP009  \\\n",
            "0     100     100     100     100     100     100     100     100     100   \n",
            "1     100     100     100     100     100     100     100     100     100   \n",
            "2     100     100     100     100     100     100     100     100     100   \n",
            "3     100     100     100     100     100     100     100     100     100   \n",
            "4     100     100     100     100     100     100     100     100     100   \n",
            "\n",
            "   WAP010  ...  WAP587  WAP588  WAP589    Pos_x    Pos_y  Floor_ID  \\\n",
            "0     100  ...     100     100     100  40.7871  31.0272         8   \n",
            "1     100  ...     100     100     100  40.7871  31.0272         8   \n",
            "2     100  ...     100     100     100  40.7871  31.0272         8   \n",
            "3     100  ...     100     100     100  39.4464  30.7985         8   \n",
            "4     100  ...     100     100     100  39.4464  30.7985         8   \n",
            "\n",
            "   Building_ID  User_ID  Phone_type             Time  \n",
            "0       New IT     root      unknow  6/03/2019 22:29  \n",
            "1       New IT     root      unknow  6/03/2019 22:29  \n",
            "2       New IT     root      unknow  6/03/2019 22:29  \n",
            "3       New IT     root      unknow  6/03/2019 22:30  \n",
            "4       New IT     root      unknow  6/03/2019 22:30  \n",
            "\n",
            "[5 rows x 596 columns]\n"
          ]
        }
      ],
      "source": [
        "from google.colab import drive\n",
        "drive.mount('/content/drive')\n",
        "\n",
        "import torch\n",
        "import pandas as pd\n",
        "import numpy as np\n",
        "from torch_geometric.data import Data, Batch\n",
        "from torch_geometric.nn import SAGEConv\n",
        "from sklearn.model_selection import train_test_split\n",
        "from sklearn.preprocessing import StandardScaler\n",
        "\n",
        "test_file_path = '/content/drive/My Drive/UTSIndoorLoc/UTS_test.csv'\n",
        "train_file_path = '/content/drive/My Drive/UTSIndoorLoc/UTS_training.csv'\n",
        "df_test = pd.read_csv(test_file_path)\n",
        "df_train = pd.read_csv(train_file_path)\n",
        "print(df_train.head())  # Preview the data"
      ]
    },
    {
      "cell_type": "code",
      "execution_count": 3,
      "metadata": {
        "id": "sG8LDLT3txu5"
      },
      "outputs": [],
      "source": [
        "def preprocess_data(data):\n",
        "    # Replace 100 with 0 (no detection)\n",
        "    sensor_cols = [col for col in data.columns if col.startswith('WAP')]\n",
        "    data[sensor_cols] = data[sensor_cols].replace(100, 0)\n",
        "    sensor_cols.append('Floor_ID')\n",
        "    return data, sensor_cols\n",
        "\n",
        "df_train, sensor_cols = preprocess_data(df_train)"
      ]
    },
    {
      "cell_type": "code",
      "execution_count": 4,
      "metadata": {
        "id": "1KRoiqKPwpiM"
      },
      "outputs": [],
      "source": [
        "# # Create graph data for each floor\n",
        "# def create_graphs(data, sensor_cols):\n",
        "#     graphs = {}\n",
        "#     x = torch.tensor(data[sensor_cols].values, dtype=torch.float)\n",
        "#     y = torch.tensor(data[['Pos_x', 'Pos_y']].values, dtype=torch.float)\n",
        "\n",
        "#     # Create dummy edges (fully connected graph for simplicity)\n",
        "#     edge_index = torch.combinations(torch.arange(x.size(0)), r=2).T\n",
        "#     edge_index = torch.cat([edge_index, edge_index.flip(0)], dim=1)\n",
        "\n",
        "#     graphs = Data(x=x, edge_index=edge_index, y=y)\n",
        "#     return graphs\n",
        "\n",
        "# graphs = create_graphs(df_train, sensor_cols)\n",
        "\n",
        "# Create graph data for each floor\n",
        "def create_graphs_by_floor(data, sensor_cols):\n",
        "    graphs = {}\n",
        "    for floor_id in data['Floor_ID'].unique():\n",
        "        floor_data = data[data['Floor_ID'] == floor_id]\n",
        "        x = torch.tensor(floor_data[sensor_cols].values, dtype=torch.float)\n",
        "        y = torch.tensor(floor_data[['Pos_x', 'Pos_y']].values, dtype=torch.float)\n",
        "\n",
        "        # Create dummy edges (fully connected graph for simplicity)\n",
        "        edge_index = torch.combinations(torch.arange(x.size(0)), r=2).T\n",
        "        edge_index = torch.cat([edge_index, edge_index.flip(0)], dim=1)\n",
        "\n",
        "        graphs[floor_id] = Data(x=x, edge_index=edge_index, y=y)\n",
        "    return graphs\n",
        "\n",
        "graphs_by_floor = create_graphs_by_floor(df_train, sensor_cols)"
      ]
    },
    {
      "cell_type": "code",
      "execution_count": 5,
      "metadata": {
        "id": "61C6bnx6w-4y"
      },
      "outputs": [],
      "source": [
        "class GraphSAGE(torch.nn.Module):\n",
        "    def __init__(self, in_channels, hidden_channels, out_channels):\n",
        "        super(GraphSAGE, self).__init__()\n",
        "        self.conv1 = SAGEConv(in_channels, hidden_channels)\n",
        "        self.conv2 = SAGEConv(hidden_channels, out_channels)\n",
        "\n",
        "    def forward(self, x, edge_index):\n",
        "        x = self.conv1(x, edge_index).relu()\n",
        "        x = self.conv2(x, edge_index)\n",
        "        return x"
      ]
    },
    {
      "cell_type": "code",
      "execution_count": 6,
      "metadata": {
        "id": "GIrHUdhgxCAL"
      },
      "outputs": [],
      "source": [
        "import gc\n",
        "\n",
        "# Initialize and train the model for one floor\n",
        "device = torch.device('cuda' if torch.cuda.is_available() else 'cpu')\n",
        "model = GraphSAGE(in_channels=len(sensor_cols), hidden_channels=64, out_channels=2).to(device)\n",
        "\n",
        "# Train on a single floor and fine-tune on another\n",
        "def train_model(graph_data, model, epochs=100, lr=0.01):\n",
        "    graph_data = graph_data.to(device)\n",
        "    optimizer = torch.optim.Adam(model.parameters(), lr=lr)\n",
        "    criterion = torch.nn.MSELoss()\n",
        "\n",
        "    for epoch in range(epochs):\n",
        "        model.train()\n",
        "        optimizer.zero_grad()\n",
        "        pred = model(graph_data.x, graph_data.edge_index)\n",
        "        loss = criterion(pred, graph_data.y)\n",
        "        loss.backward()\n",
        "        optimizer.step()\n",
        "        if (epoch + 1) % 20 == 0:\n",
        "            print(f'Epoch {epoch+1}, Loss: {loss.item()}')\n",
        "    return model"
      ]
    },
    {
      "cell_type": "code",
      "execution_count": 8,
      "metadata": {
        "colab": {
          "base_uri": "https://localhost:8080/"
        },
        "id": "jFf0I3sExWD4",
        "outputId": "b4ebb45d-4813-41df-bde7-8162b20c456a"
      },
      "outputs": [
        {
          "output_type": "stream",
          "name": "stdout",
          "text": [
            "Training/Fine-tuning on Floor -3...\n",
            "Epoch 20, Loss: 28.5521240234375\n",
            "Epoch 40, Loss: 17.637168884277344\n",
            "Epoch 60, Loss: 9.52087116241455\n",
            "Epoch 80, Loss: 6.833733081817627\n",
            "Epoch 100, Loss: 5.337674140930176\n",
            "Training/Fine-tuning on Floor -2...\n",
            "Epoch 20, Loss: 47.78579330444336\n",
            "Epoch 40, Loss: 24.02873420715332\n",
            "Epoch 60, Loss: 16.9492244720459\n",
            "Epoch 80, Loss: 12.214492797851562\n",
            "Epoch 100, Loss: 9.003173828125\n",
            "Training/Fine-tuning on Floor -1...\n",
            "Epoch 20, Loss: 27.16414451599121\n",
            "Epoch 40, Loss: 14.084573745727539\n",
            "Epoch 60, Loss: 10.826127052307129\n",
            "Epoch 80, Loss: 9.486392974853516\n",
            "Epoch 100, Loss: 8.632204055786133\n",
            "Training/Fine-tuning on Floor 0...\n",
            "Epoch 20, Loss: 22.635986328125\n",
            "Epoch 40, Loss: 15.206517219543457\n",
            "Epoch 60, Loss: 10.50535774230957\n",
            "Epoch 80, Loss: 8.976301193237305\n",
            "Epoch 100, Loss: 8.048324584960938\n",
            "Training/Fine-tuning on Floor 1...\n",
            "Epoch 20, Loss: 35.300655364990234\n",
            "Epoch 40, Loss: 17.51955223083496\n",
            "Epoch 60, Loss: 12.76397705078125\n",
            "Epoch 80, Loss: 9.2374906539917\n",
            "Epoch 100, Loss: 7.330847263336182\n",
            "Training/Fine-tuning on Floor 2...\n",
            "Epoch 20, Loss: 86.68621826171875\n",
            "Epoch 40, Loss: 33.39452362060547\n",
            "Epoch 60, Loss: 21.175888061523438\n",
            "Epoch 80, Loss: 14.737743377685547\n",
            "Epoch 100, Loss: 11.338635444641113\n",
            "Training/Fine-tuning on Floor 3...\n",
            "Epoch 20, Loss: 47.59160232543945\n",
            "Epoch 40, Loss: 21.732309341430664\n",
            "Epoch 60, Loss: 16.055721282958984\n",
            "Epoch 80, Loss: 12.598179817199707\n",
            "Epoch 100, Loss: 8.75167179107666\n",
            "Training/Fine-tuning on Floor 4...\n",
            "Epoch 20, Loss: 93.95601654052734\n",
            "Epoch 40, Loss: 40.74856948852539\n",
            "Epoch 60, Loss: 29.334566116333008\n",
            "Epoch 80, Loss: 23.772157669067383\n",
            "Epoch 100, Loss: 20.323049545288086\n",
            "Training/Fine-tuning on Floor 5...\n",
            "Epoch 20, Loss: 37.336299896240234\n",
            "Epoch 40, Loss: 29.97876739501953\n",
            "Epoch 60, Loss: 24.137636184692383\n",
            "Epoch 80, Loss: 21.665502548217773\n",
            "Epoch 100, Loss: 20.05059242248535\n",
            "Training/Fine-tuning on Floor 6...\n",
            "Epoch 20, Loss: 90.17184448242188\n",
            "Epoch 40, Loss: 65.2064208984375\n",
            "Epoch 60, Loss: 50.24447250366211\n",
            "Epoch 80, Loss: 40.580284118652344\n",
            "Epoch 100, Loss: 35.319705963134766\n",
            "Training/Fine-tuning on Floor 7...\n",
            "Epoch 20, Loss: 96.98982238769531\n",
            "Epoch 40, Loss: 64.15387725830078\n",
            "Epoch 60, Loss: 45.60396194458008\n",
            "Epoch 80, Loss: 30.668716430664062\n",
            "Epoch 100, Loss: 21.903316497802734\n",
            "Training/Fine-tuning on Floor 8...\n",
            "Epoch 20, Loss: 40.714881896972656\n",
            "Epoch 40, Loss: 23.506975173950195\n",
            "Epoch 60, Loss: 16.748676300048828\n",
            "Epoch 80, Loss: 12.72317123413086\n",
            "Epoch 100, Loss: 10.019433975219727\n",
            "Training/Fine-tuning on Floor 9...\n",
            "Epoch 20, Loss: 76.77188110351562\n",
            "Epoch 40, Loss: 47.497013092041016\n",
            "Epoch 60, Loss: 36.10532760620117\n",
            "Epoch 80, Loss: 30.794116973876953\n",
            "Epoch 100, Loss: 27.69339942932129\n",
            "Training/Fine-tuning on Floor 10...\n",
            "Epoch 20, Loss: 21.724315643310547\n",
            "Epoch 40, Loss: 12.635699272155762\n",
            "Epoch 60, Loss: 9.251554489135742\n",
            "Epoch 80, Loss: 8.051512718200684\n",
            "Epoch 100, Loss: 7.340395927429199\n",
            "Training/Fine-tuning on Floor 11...\n",
            "Epoch 20, Loss: 24.69359588623047\n",
            "Epoch 40, Loss: 13.05586051940918\n",
            "Epoch 60, Loss: 9.767104148864746\n",
            "Epoch 80, Loss: 8.569058418273926\n",
            "Epoch 100, Loss: 7.938155651092529\n",
            "Training/Fine-tuning on Floor 12...\n",
            "Epoch 20, Loss: 48.091285705566406\n",
            "Epoch 40, Loss: 21.482473373413086\n",
            "Epoch 60, Loss: 14.773733139038086\n",
            "Epoch 80, Loss: 12.047181129455566\n",
            "Epoch 100, Loss: 10.239863395690918\n",
            "Training Complete\n"
          ]
        }
      ],
      "source": [
        "# print(\"Training Model\")\n",
        "# model = train_model(graphs, model)\n",
        "\n",
        "max_floor = 0\n",
        "for floor_id in sorted(graphs_by_floor.keys()):\n",
        "    print(f\"Training/Fine-tuning on Floor {floor_id}...\")\n",
        "    model = train_model(graphs_by_floor[floor_id], model)\n",
        "    max_floor = floor_id\n",
        "\n",
        "print(\"Training Complete\")"
      ]
    },
    {
      "cell_type": "code",
      "execution_count": 11,
      "metadata": {
        "colab": {
          "base_uri": "https://localhost:8080/"
        },
        "id": "8OEsm_Rsxk-h",
        "outputId": "07c7e650-54e6-4d1f-9c66-f3383f5b526c"
      },
      "outputs": [
        {
          "output_type": "stream",
          "name": "stdout",
          "text": [
            "Evaluating on the new dataset...\n",
            "Evaluation Results:\n",
            "MAE: 17.7026\n",
            "RMSE: 23.3246\n",
            "R2 Score: -1.3313\n",
            "12\n"
          ]
        }
      ],
      "source": [
        "from sklearn.metrics import r2_score\n",
        "\n",
        "# Create graph data for all\n",
        "def create_graphs(data, sensor_cols):\n",
        "    graphs = {}\n",
        "    x = torch.tensor(data[sensor_cols].values, dtype=torch.float)\n",
        "    y = torch.tensor(data[['Pos_x', 'Pos_y']].values, dtype=torch.float)\n",
        "\n",
        "    # Create dummy edges (fully connected graph for simplicity)\n",
        "    edge_index = torch.combinations(torch.arange(x.size(0)), r=2).T\n",
        "    edge_index = torch.cat([edge_index, edge_index.flip(0)], dim=1)\n",
        "\n",
        "    graphs = Data(x=x, edge_index=edge_index, y=y)\n",
        "    return graphs\n",
        "\n",
        "graphs = create_graphs(df_train, sensor_cols)\n",
        "\n",
        "def evaluate_model(model, test_graph):\n",
        "    model.eval()\n",
        "    test_graph = test_graph.to(device)\n",
        "    with torch.no_grad():\n",
        "        pred = model(test_graph.x, test_graph.edge_index)\n",
        "        true = test_graph.y\n",
        "\n",
        "        # Calculate Mean Absolute Error (MAE)\n",
        "        mae = torch.mean(torch.abs(pred - true))\n",
        "\n",
        "        # Calculate Root Mean Square Error (RMSE)\n",
        "        rmse = torch.sqrt(torch.mean((pred - true) ** 2))\n",
        "\n",
        "        r2 = r2_score(true.numpy(), pred.numpy())\n",
        "\n",
        "    print(\"Evaluation Results:\")\n",
        "    print(f\"MAE: {mae.item():.4f}\")\n",
        "    print(f\"RMSE: {rmse.item():.4f}\")\n",
        "    print(f\"R2 Score: {r2:.4f}\")\n",
        "    return mae.item(), rmse.item()\n",
        "\n",
        "# Load and preprocess the new dataset\n",
        "df_test, sensor_cols = preprocess_data(df_test)\n",
        "\n",
        "# df_test = df_test[df_test['Floor_ID'] == max_floor]\n",
        "\n",
        "# Create graph for new dataset\n",
        "new_global_graph = create_graphs(df_test, sensor_cols)\n",
        "\n",
        "# Evaluate the global model on the new graph\n",
        "print(\"Evaluating on the new dataset...\")\n",
        "evaluate_model(model, new_global_graph)\n",
        "print(max_floor)"
      ]
    }
  ],
  "metadata": {
    "colab": {
      "provenance": [],
      "gpuType": "V28",
      "authorship_tag": "ABX9TyNKGEWLo1j6AT6jOsiFT3h+",
      "include_colab_link": true
    },
    "kernelspec": {
      "display_name": "Python 3",
      "name": "python3"
    },
    "language_info": {
      "name": "python"
    },
    "accelerator": "TPU"
  },
  "nbformat": 4,
  "nbformat_minor": 0
}